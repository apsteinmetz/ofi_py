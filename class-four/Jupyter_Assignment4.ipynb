{
 "cells": [
  {
   "cell_type": "markdown",
   "metadata": {},
   "source": [
    "# Introduction to Data Science"
   ]
  },
  {
   "cell_type": "markdown",
   "metadata": {},
   "source": [
    "After the third & fourth sprints (week 5~8), you have learned how to build supervised learning predictive models through two DataCamp courses:\n",
    "* Supervised Learning with Scikit-Learn\n",
    "* Machine Learning with Tree Based Models \n",
    "\n",
    "And through Jupyter Assignment 3, (sample solutions from Ibrahim is posted on our class sharepoint):\n",
    "http://myoficommunities/odsc/pythontraining/NY%20Intermediate%20Program/Forms/AllItems.aspx?RootFolder=%2Fodsc%2Fpythontraining%2FNY%20Intermediate%20Program%2FJupyter%20Assignments%2FAssignment%5F3&FolderCTID=0x0120005E98F3492BB28E468945FAA4922BFEA1&View=%7BE489C046%2DAA02%2D4DA6%2D880B%2D0FDC03B2F882%7D\n",
    "\n",
    "We will continue from Jupyter Assignment 3 sample solutions, let's work on binary classifiers for \"Default\". "
   ]
  },
  {
   "cell_type": "markdown",
   "metadata": {},
   "source": [
    "## Disclaimer:  Limitation of this Jupyter Assignment\n",
    "* we only work with binary classifiers, not multi-class classifiers, not regressors for numerical predictions;   \n",
    "* no missing values in features (which is usually unrealistic in real world applications);\n",
    "* all features are numerical, not categorical;   \n",
    "\n",
    "please ask yourself what if you are presented with different challenges, while you are doing the practice below."
   ]
  },
  {
   "cell_type": "markdown",
   "metadata": {},
   "source": [
    "<span style=\"color:red\">  \n",
    "Red questions are required, you could find hints from DataCamp\n",
    "</span>\n",
    "<span style=\"color:blue\">  \n",
    "Blue questions are more challenging, which are optional and for in-class open discussion\n",
    "</span>\n",
    "<span style=\"color:green\">  \n",
    "Green questions are most challenging and time consuming, we won't discuss during bi-weekly checkin, but we could discuss during office hours.\n",
    "</span>"
   ]
  },
  {
   "cell_type": "markdown",
   "metadata": {},
   "source": [
    "## Key Topics to practice\n",
    "* Tree based models & other ensemble models;\n",
    "* model performance metrics for binary classifier;\n",
    "* hyper parameters tuning (only practice with grid search);\n",
    "* feature engineering practice and discussion;"
   ]
  },
  {
   "cell_type": "markdown",
   "metadata": {},
   "source": [
    "## Let's warm up with part of sample solutions from Jupyter Assignment 3 "
   ]
  },
  {
   "cell_type": "code",
   "execution_count": 1,
   "metadata": {},
   "outputs": [
    {
     "data": {
      "text/plain": [
       "'python |pandas |numpy |seaborn|sklearn|'"
      ]
     },
     "metadata": {},
     "output_type": "display_data"
    },
    {
     "data": {
      "text/plain": [
       "'-------|-------|------|-------|'"
      ]
     },
     "metadata": {},
     "output_type": "display_data"
    },
    {
     "data": {
      "text/plain": [
       "'3.6.5  |0.23.0 |1.14.3|0.8.1  |0.19.1'"
      ]
     },
     "metadata": {},
     "output_type": "display_data"
    },
    {
     "data": {
      "text/plain": [
       "'The number of defaulted entities in the sample is 472'"
      ]
     },
     "metadata": {},
     "output_type": "display_data"
    },
    {
     "data": {
      "text/plain": [
       "'The number of non-defaulted entities in the sample is 9384'"
      ]
     },
     "metadata": {},
     "output_type": "display_data"
    }
   ],
   "source": [
    "import pandas as pd\n",
    "import numpy as np\n",
    "import sklearn\n",
    "import matplotlib.pyplot as plt\n",
    "import seaborn as sns\n",
    "%matplotlib inline\n",
    "from sklearn.model_selection import train_test_split\n",
    "from sklearn.linear_model import LogisticRegression\n",
    "from sklearn.metrics import (confusion_matrix,classification_report, accuracy_score, precision_score,\n",
    "                             recall_score,f1_score, roc_curve, auc)\n",
    "import platform\n",
    "import random\n",
    "from helper_functions import normalize_df_columns\n",
    "\n",
    "#check versions of libraries and system\n",
    "display(\"python |pandas |numpy |seaborn|sklearn|\")\n",
    "display(\"-------|-------|------|-------|\")\n",
    "display(f\"{platform.python_version()}  |{pd.__version__} |{np.__version__}|{sns.__version__}  |{sklearn.__version__}\")\n",
    "\n",
    "df_fdic_small=pd.read_hdf(\"data_fourth_assignment.h5\", key='df').set_index(\"IDRSSD\")\n",
    "df_fdic_small.columns=normalize_df_columns(df_fdic_small)\n",
    "\n",
    "main_company_columns=['log_ta','ni_to_ta','equity_to_ta','npl_to_tl','reo_to_ta','alll_to_tl',\n",
    "                      'core_deposits_to_ta','brokered_deposits_to_ta','liquid_assets_to_ta',\n",
    "                      'loss_provision_to_tl','nim','assets_growth']\n",
    "main_market_columns=['term_spread','stock_mkt_growth','real_gdp_growth','unemployment_rate_change',\n",
    "                     'treasury_yield_3m','bbb_spread','bbb_spread_change']\n",
    "\n",
    "defaulted_ids=df_fdic_small.query(\"defaulter==1\").index.unique().tolist()\n",
    "non_defaulted_ids=df_fdic_small.query(\"defaulter==0\").index.unique().tolist()\n",
    "\n",
    "fdic_defaulted=df_fdic_small.loc[defaulted_ids]\n",
    "fdic_non_defaulted=df_fdic_small.loc[non_defaulted_ids]\n",
    "\n",
    "#Determine the number of defaulted entities and print it\n",
    "number_of_defaulted_entities=len(defaulted_ids)\n",
    "number_of_nondefaulted_entities=len(non_defaulted_ids)\n",
    "display(f\"The number of defaulted entities in the sample is {number_of_defaulted_entities}\")\n",
    "display(f\"The number of non-defaulted entities in the sample is {number_of_nondefaulted_entities}\")\n",
    "\n",
    "#### manually train-test split the data, 70% of IDs in training, and the rest in testing data\n",
    "defaulted_train_ids = random.sample(defaulted_ids, int(len(defaulted_ids)*0.7))\n",
    "non_defaulted_train_ids=random.sample(non_defaulted_ids, int(len(non_defaulted_ids)*0.7))\n",
    "defaulted_test_ids=list(set(defaulted_ids)-set(defaulted_train_ids))\n",
    "non_defaulted_test_ids=list(set(non_defaulted_ids)-set(non_defaulted_train_ids))\n",
    "\n",
    "defaulted_train=df_fdic_small.loc[defaulted_train_ids]\n",
    "non_defaulted_train=df_fdic_small.loc[non_defaulted_train_ids]\n",
    "defaulted_test=df_fdic_small.loc[defaulted_test_ids]\n",
    "non_defaulted_test=df_fdic_small.loc[non_defaulted_test_ids]\n",
    "\n",
    "df_train_X=defaulted_train[main_company_columns+main_market_columns].\\\n",
    "    append(non_defaulted_train[main_company_columns+main_market_columns])\n",
    "df_test_X=defaulted_test[main_company_columns+main_market_columns].\\\n",
    "    append(non_defaulted_test[main_company_columns+main_market_columns])\n",
    "df_train_Y=defaulted_train.defaulter.append(non_defaulted_train.defaulter)\n",
    "df_test_Y=defaulted_test.defaulter.append(non_defaulted_test.defaulter)\n",
    "#### end of manually train-test split the data"
   ]
  },
  {
   "cell_type": "markdown",
   "metadata": {},
   "source": [
    "## Model Purpose"
   ]
  },
  {
   "cell_type": "markdown",
   "metadata": {},
   "source": [
    "<span style=\"color:blue\"> \n",
    "Task 1 (no need to code):  \n",
    "Think about the last 20 lines of code from cell above, which is for manually train-test split, with the following two different purposes of building models:   \n",
    "    (1) for some other institutions (also with IDRSSD as unique ID), we have missing values for the column \"defaulter\" across the history, and we want to backfill the history for these missing values with predictive models.   \n",
    "    (2) we want to use this predictive model ongoing in production, to predict \"defaulter\" in the future for different institutions.    \n",
    "Any concerns if the purpose is (2), what other train/test split methods you can think of?   \n",
    "</span>"
   ]
  },
  {
   "cell_type": "code",
   "execution_count": null,
   "metadata": {},
   "outputs": [],
   "source": []
  },
  {
   "cell_type": "markdown",
   "metadata": {},
   "source": [
    "<span style=\"color:red\">  \n",
    "Task 2:  \n",
    "initialize some supervised learning models (with any hyperparameters you like if not specified, or leave it as default):   \n",
    "    (1) logistic regression (with hyper parameters from Jupyter Assignment 3),   \n",
    "    (2) decision tree classifier,   \n",
    "    (3) random forest classifier,   \n",
    "    (4) gradientboosting classifier,  \n",
    "    (5) bagging classifier with 50 logistic classifier, which you just initialized,  \n",
    "    (6) bagging classifier with 50 decision tree classifier, which you just initialized,    \n",
    "Hints:  DataCamp notes Chapter 1 page 6,  Chapter 3 page 9, 26,  \n",
    "</span>"
   ]
  },
  {
   "cell_type": "code",
   "execution_count": 28,
   "metadata": {},
   "outputs": [],
   "source": []
  },
  {
   "cell_type": "code",
   "execution_count": 3,
   "metadata": {},
   "outputs": [],
   "source": []
  },
  {
   "cell_type": "markdown",
   "metadata": {},
   "source": [
    "for all these Binary Classifiers, we are interested in model performance as what we did in Jupyter Assignment 3:\n",
    "    * ROC curve, \n",
    "    * confustion matrix, \n",
    "    * classification report, \n",
    "    * accuracy."
   ]
  },
  {
   "cell_type": "markdown",
   "metadata": {},
   "source": [
    "Task 3: \n",
    "<span style=\"color:red\">   \n",
    "complete the \"show_performance\" function, so the output of cell below is as expected\n",
    "</span>\n",
    "<span style=\"color:blue\">   \n",
    "This roc_plot is defined by ourselves, try to replace by installing & using the library \"skplt\" as Ibrahim introduced in Jupyter Assignment 3 sample solutions:     \n",
    "        Hint:  \n",
    "    skplt.metrics.plot_roc(df_test_Y, result_all.predict_proba(df_test_X))\n",
    "</span>"
   ]
  },
  {
   "cell_type": "code",
   "execution_count": 4,
   "metadata": {},
   "outputs": [],
   "source": [
    "def roc_plot(roc_data, auc_data):\n",
    "    plt.figure()\n",
    "    lw = 2\n",
    "    plt.plot(roc_data[0],roc_data[1], color='darkorange',\n",
    "             lw=lw, label='ROC curve (area = %0.2f)' % auc_data)\n",
    "    plt.plot([0, 1], [0, 1], lw=lw, color='r', linestyle='--', label='y=x', alpha=.8)\n",
    "    plt.xlim([-0.05, 1.05])\n",
    "    plt.ylim([-0.05, 1.05])\n",
    "    plt.xlabel('False Positive Rate')\n",
    "    plt.ylabel('True Positive Rate (Recall)')\n",
    "    plt.title('Receiver operating characteristic')\n",
    "    plt.legend(loc=\"lower right\")\n",
    "    plt.show()"
   ]
  },
  {
   "cell_type": "code",
   "execution_count": 5,
   "metadata": {},
   "outputs": [],
   "source": [
    "def show_performance(model, df_train_X, df_train_Y, df_test_X, df_test_Y):\n",
    "    '''input model, training/testing data, display model performance metrics for binary classifier\n",
    "    :param model: model object, could be from sklearn\n",
    "    :param df_train_X:  pandas DataFrame,  containing features for training\n",
    "    :param df_train_Y:  pandas DataFrame(1 column) or Series,  containing the response variable for training\n",
    "    :param df_test_X:  pandas DataFrame,  containing features in testing\n",
    "    :param df_test_Y:  pandas DataFrame(1 column) or Series,  containing the response variable in testing\n",
    "    '''\n",
    "    model_fitted = model.fit(df_train_X,df_train_Y)\n",
    "    predictions_y = model.predict(df_test_X)\n",
    "    predictions_y_proba = model.predict_proba(df_test_X)\n",
    "    roc_data = roc_curve((df_test_Y==0), predictions_y_proba[:,0])\n",
    "    auc_data = auc(roc_data[0], roc_data[1])\n",
    "    roc_plot(roc_data, auc_data)   \n",
    "    \n",
    "    ### complete your code below within this function\n"
   ]
  },
  {
   "cell_type": "code",
   "execution_count": 6,
   "metadata": {},
   "outputs": [
    {
     "data": {
      "image/png": "[encoded data removed]",
      "text/plain": [
       "<Figure size 432x288 with 1 Axes>"
      ]
     },
     "metadata": {},
     "output_type": "display_data"
    },
    {
     "name": "stdout",
     "output_type": "stream",
     "text": [
      "confusion mastrix:\n",
      "[[126406    279]\n",
      " [  4375    450]]\n",
      "classification report:\n",
      "             precision    recall  f1-score   support\n",
      "\n",
      "          0       0.97      1.00      0.98    126685\n",
      "          1       0.62      0.09      0.16      4825\n",
      "\n",
      "avg / total       0.95      0.96      0.95    131510\n",
      "\n",
      "accuracy score:\n",
      "0.9646110561934453\n"
     ]
    }
   ],
   "source": [
    "_ = show_performance(gbc, df_train_X, df_train_Y, df_test_X, df_test_Y)"
   ]
  },
  {
   "cell_type": "markdown",
   "metadata": {},
   "source": [
    "<span style=\"color:red\">  \n",
    "Task 4:  \n",
    "complete the function \"show_features\", with output similar (no need to be same) as the cell below.    \n",
    "Think about \"Do we need testing data as input into this function?\"  \n",
    "Hints:  DataCamp notes Chapter 3 page 28,  \n",
    "</span>"
   ]
  },
  {
   "cell_type": "code",
   "execution_count": 7,
   "metadata": {},
   "outputs": [],
   "source": [
    "def show_features(model, df_train_X, df_train_Y):\n",
    "    '''input model, training set, display feature importance\n",
    "    :param model: model object, could be from sklearn\n",
    "    :param df_train_X:  pandas DataFrame,  containing features\n",
    "    :param df_train_Y:  pandas DataFrame(1 column) or Series,  containing the response variable\n",
    "    '''\n",
    "    ### complete this function"
   ]
  },
  {
   "cell_type": "code",
   "execution_count": 8,
   "metadata": {},
   "outputs": [
    {
     "data": {
      "text/html": [
       "<div>\n",
       "<style scoped>\n",
       "    .dataframe tbody tr th:only-of-type {\n",
       "        vertical-align: middle;\n",
       "    }\n",
       "\n",
       "    .dataframe tbody tr th {\n",
       "        vertical-align: top;\n",
       "    }\n",
       "\n",
       "    .dataframe thead th {\n",
       "        text-align: right;\n",
       "    }\n",
       "</style>\n",
       "<table border=\"1\" class=\"dataframe\">\n",
       "  <thead>\n",
       "    <tr style=\"text-align: right;\">\n",
       "      <th></th>\n",
       "      <th>feature</th>\n",
       "      <th>score</th>\n",
       "    </tr>\n",
       "  </thead>\n",
       "  <tbody>\n",
       "    <tr>\n",
       "      <th>2</th>\n",
       "      <td>equity_to_ta</td>\n",
       "      <td>0.104831</td>\n",
       "    </tr>\n",
       "    <tr>\n",
       "      <th>0</th>\n",
       "      <td>log_ta</td>\n",
       "      <td>0.0924898</td>\n",
       "    </tr>\n",
       "    <tr>\n",
       "      <th>3</th>\n",
       "      <td>npl_to_tl</td>\n",
       "      <td>0.0867504</td>\n",
       "    </tr>\n",
       "    <tr>\n",
       "      <th>8</th>\n",
       "      <td>liquid_assets_to_ta</td>\n",
       "      <td>0.0842243</td>\n",
       "    </tr>\n",
       "    <tr>\n",
       "      <th>6</th>\n",
       "      <td>core_deposits_to_ta</td>\n",
       "      <td>0.0825099</td>\n",
       "    </tr>\n",
       "  </tbody>\n",
       "</table>\n",
       "</div>"
      ],
      "text/plain": [
       "               feature      score\n",
       "2         equity_to_ta   0.104831\n",
       "0               log_ta  0.0924898\n",
       "3            npl_to_tl  0.0867504\n",
       "8  liquid_assets_to_ta  0.0842243\n",
       "6  core_deposits_to_ta  0.0825099"
      ]
     },
     "metadata": {},
     "output_type": "display_data"
    },
    {
     "data": {
      "image/png": "[encoded data removed]",
      "text/plain": [
       "<Figure size 432x288 with 1 Axes>"
      ]
     },
     "metadata": {},
     "output_type": "display_data"
    }
   ],
   "source": []
  },
  {
   "cell_type": "code",
   "execution_count": 9,
   "metadata": {},
   "outputs": [
    {
     "data": {
      "text/html": [
       "<div>\n",
       "<style scoped>\n",
       "    .dataframe tbody tr th:only-of-type {\n",
       "        vertical-align: middle;\n",
       "    }\n",
       "\n",
       "    .dataframe tbody tr th {\n",
       "        vertical-align: top;\n",
       "    }\n",
       "\n",
       "    .dataframe thead th {\n",
       "        text-align: right;\n",
       "    }\n",
       "</style>\n",
       "<table border=\"1\" class=\"dataframe\">\n",
       "  <thead>\n",
       "    <tr style=\"text-align: right;\">\n",
       "      <th></th>\n",
       "      <th>feature</th>\n",
       "      <th>score</th>\n",
       "    </tr>\n",
       "  </thead>\n",
       "  <tbody>\n",
       "    <tr>\n",
       "      <th>0</th>\n",
       "      <td>log_ta</td>\n",
       "      <td>0.174927</td>\n",
       "    </tr>\n",
       "    <tr>\n",
       "      <th>6</th>\n",
       "      <td>core_deposits_to_ta</td>\n",
       "      <td>0.116261</td>\n",
       "    </tr>\n",
       "    <tr>\n",
       "      <th>2</th>\n",
       "      <td>equity_to_ta</td>\n",
       "      <td>0.0999511</td>\n",
       "    </tr>\n",
       "    <tr>\n",
       "      <th>10</th>\n",
       "      <td>nim</td>\n",
       "      <td>0.0989172</td>\n",
       "    </tr>\n",
       "    <tr>\n",
       "      <th>3</th>\n",
       "      <td>npl_to_tl</td>\n",
       "      <td>0.087788</td>\n",
       "    </tr>\n",
       "  </tbody>\n",
       "</table>\n",
       "</div>"
      ],
      "text/plain": [
       "                feature      score\n",
       "0                log_ta   0.174927\n",
       "6   core_deposits_to_ta   0.116261\n",
       "2          equity_to_ta  0.0999511\n",
       "10                  nim  0.0989172\n",
       "3             npl_to_tl   0.087788"
      ]
     },
     "metadata": {},
     "output_type": "display_data"
    },
    {
     "data": {
      "image/png": "[encoded data removed]",
      "text/plain": [
       "<Figure size 432x288 with 1 Axes>"
      ]
     },
     "metadata": {},
     "output_type": "display_data"
    }
   ],
   "source": [
    "show_features(gbc, df_train_X, df_train_Y)"
   ]
  },
  {
   "cell_type": "markdown",
   "metadata": {},
   "source": [
    "## Collinearity / Correlated features\n",
    "let's do feature selection with different tree based models. What if we have highly correlated features?  \n",
    "you can google and find lots of articles on this topic, here is one example:   \n",
    "https://datascience.stackexchange.com/questions/12554/does-xgboost-handle-multicollinearity-by-itself"
   ]
  },
  {
   "cell_type": "markdown",
   "metadata": {},
   "source": [
    "<span style=\"color:red\">  \n",
    "Task 5:  \n",
    "the following cell is trying to duplicate one feature \"log_ta\" ,  please use \"show_features\" function defined above, to explore feature importance after we add this duplicated feature.   \n",
    "    you can choose to run \"show_features\" with decision tree, randomforest and gradientboosting models you intialized above.\n",
    "</span>\n",
    "<span style=\"color:blue\">  \n",
    "(1) If you have experience using linear models to do features (predictors) selection, think about the difference.    \n",
    "    (Linear models can be linear, lasso, logistic or any generalized linear models. )   \n",
    "(2) Think about feature importance within different tree based classifiers?  what if regressors instead of binary classifier?  \n",
    "    Hint: the structure of models, as in DataCamp notes Chapter 3 page 22, Chapter 4 page 5, 14\n",
    "</span>"
   ]
  },
  {
   "cell_type": "code",
   "execution_count": 10,
   "metadata": {},
   "outputs": [],
   "source": [
    "df_train_X_added = df_train_X.copy(deep=True)\n",
    "df_train_X_added[\"log_ta_mirrored\"] = df_train_X_added[\"log_ta\"]"
   ]
  },
  {
   "cell_type": "code",
   "execution_count": 11,
   "metadata": {},
   "outputs": [
    {
     "data": {
      "text/html": [
       "<div>\n",
       "<style scoped>\n",
       "    .dataframe tbody tr th:only-of-type {\n",
       "        vertical-align: middle;\n",
       "    }\n",
       "\n",
       "    .dataframe tbody tr th {\n",
       "        vertical-align: top;\n",
       "    }\n",
       "\n",
       "    .dataframe thead th {\n",
       "        text-align: right;\n",
       "    }\n",
       "</style>\n",
       "<table border=\"1\" class=\"dataframe\">\n",
       "  <thead>\n",
       "    <tr style=\"text-align: right;\">\n",
       "      <th></th>\n",
       "      <th>feature</th>\n",
       "      <th>score</th>\n",
       "    </tr>\n",
       "  </thead>\n",
       "  <tbody>\n",
       "    <tr>\n",
       "      <th>2</th>\n",
       "      <td>equity_to_ta</td>\n",
       "      <td>0.0940492</td>\n",
       "    </tr>\n",
       "    <tr>\n",
       "      <th>3</th>\n",
       "      <td>npl_to_tl</td>\n",
       "      <td>0.080163</td>\n",
       "    </tr>\n",
       "    <tr>\n",
       "      <th>6</th>\n",
       "      <td>core_deposits_to_ta</td>\n",
       "      <td>0.079382</td>\n",
       "    </tr>\n",
       "    <tr>\n",
       "      <th>8</th>\n",
       "      <td>liquid_assets_to_ta</td>\n",
       "      <td>0.0784054</td>\n",
       "    </tr>\n",
       "    <tr>\n",
       "      <th>10</th>\n",
       "      <td>nim</td>\n",
       "      <td>0.0778277</td>\n",
       "    </tr>\n",
       "  </tbody>\n",
       "</table>\n",
       "</div>"
      ],
      "text/plain": [
       "                feature      score\n",
       "2          equity_to_ta  0.0940492\n",
       "3             npl_to_tl   0.080163\n",
       "6   core_deposits_to_ta   0.079382\n",
       "8   liquid_assets_to_ta  0.0784054\n",
       "10                  nim  0.0778277"
      ]
     },
     "metadata": {},
     "output_type": "display_data"
    },
    {
     "data": {
      "image/png": "[encoded data removed]",
      "text/plain": [
       "<Figure size 432x288 with 1 Axes>"
      ]
     },
     "metadata": {},
     "output_type": "display_data"
    }
   ],
   "source": []
  },
  {
   "cell_type": "code",
   "execution_count": 12,
   "metadata": {},
   "outputs": [
    {
     "data": {
      "text/html": [
       "<div>\n",
       "<style scoped>\n",
       "    .dataframe tbody tr th:only-of-type {\n",
       "        vertical-align: middle;\n",
       "    }\n",
       "\n",
       "    .dataframe tbody tr th {\n",
       "        vertical-align: top;\n",
       "    }\n",
       "\n",
       "    .dataframe thead th {\n",
       "        text-align: right;\n",
       "    }\n",
       "</style>\n",
       "<table border=\"1\" class=\"dataframe\">\n",
       "  <thead>\n",
       "    <tr style=\"text-align: right;\">\n",
       "      <th></th>\n",
       "      <th>feature</th>\n",
       "      <th>score</th>\n",
       "    </tr>\n",
       "  </thead>\n",
       "  <tbody>\n",
       "    <tr>\n",
       "      <th>6</th>\n",
       "      <td>core_deposits_to_ta</td>\n",
       "      <td>0.116261</td>\n",
       "    </tr>\n",
       "    <tr>\n",
       "      <th>19</th>\n",
       "      <td>log_ta_mirrored</td>\n",
       "      <td>0.111394</td>\n",
       "    </tr>\n",
       "    <tr>\n",
       "      <th>2</th>\n",
       "      <td>equity_to_ta</td>\n",
       "      <td>0.100738</td>\n",
       "    </tr>\n",
       "    <tr>\n",
       "      <th>10</th>\n",
       "      <td>nim</td>\n",
       "      <td>0.0987179</td>\n",
       "    </tr>\n",
       "    <tr>\n",
       "      <th>3</th>\n",
       "      <td>npl_to_tl</td>\n",
       "      <td>0.0895085</td>\n",
       "    </tr>\n",
       "  </tbody>\n",
       "</table>\n",
       "</div>"
      ],
      "text/plain": [
       "                feature      score\n",
       "6   core_deposits_to_ta   0.116261\n",
       "19      log_ta_mirrored   0.111394\n",
       "2          equity_to_ta   0.100738\n",
       "10                  nim  0.0987179\n",
       "3             npl_to_tl  0.0895085"
      ]
     },
     "metadata": {},
     "output_type": "display_data"
    },
    {
     "data": {
      "image/png": "[encoded data removed]",
      "text/plain": [
       "<Figure size 432x288 with 1 Axes>"
      ]
     },
     "metadata": {},
     "output_type": "display_data"
    }
   ],
   "source": []
  },
  {
   "cell_type": "markdown",
   "metadata": {},
   "source": [
    "# Consistent with Jupyter Assignment 3, we downsample to make it balance\n",
    "the cell below is from sample solutions of Jupyter Assignment 3"
   ]
  },
  {
   "cell_type": "code",
   "execution_count": 13,
   "metadata": {},
   "outputs": [
    {
     "data": {
      "text/plain": [
       "'The number of defaulted entities in the sample is 472'"
      ]
     },
     "metadata": {},
     "output_type": "display_data"
    },
    {
     "data": {
      "text/plain": [
       "'The number of non-defaulted entities in the sample is 9384'"
      ]
     },
     "metadata": {},
     "output_type": "display_data"
    },
    {
     "data": {
      "text/plain": [
       "'The number of non-defaulted entities in the balanced dataset is 472'"
      ]
     },
     "metadata": {},
     "output_type": "display_data"
    }
   ],
   "source": [
    "#Determine the number of defaulted entities and print it\n",
    "number_of_defaulted_entities=len(defaulted_ids)\n",
    "number_of_nondefaulted_entities=len(non_defaulted_ids)\n",
    "display(f\"The number of defaulted entities in the sample is {number_of_defaulted_entities}\")\n",
    "display(f\"The number of non-defaulted entities in the sample is {number_of_nondefaulted_entities}\")\n",
    "#Select randomly a sample of non defaulted entities with the same size as the defaulted entities\n",
    "#print the number of non defaulted entities\n",
    "non_defaulted_balanced_ids=random.sample(non_defaulted_ids, int(number_of_defaulted_entities*1))\n",
    "display(f\"The number of non-defaulted entities in the balanced dataset is {len(non_defaulted_balanced_ids)}\")\n",
    "\n",
    "#Create the training and test data sets like in Part I but using the limited non-defaulted IDs\n",
    "non_defaulted_train_balanced_ids=random.sample(non_defaulted_balanced_ids, \n",
    "           int(len(non_defaulted_balanced_ids)*0.7))\n",
    "\n",
    "non_defaulted_test_balanced_ids=list(set(non_defaulted_balanced_ids)-\\\n",
    "                                     set(non_defaulted_train_balanced_ids))\n",
    "\n",
    "non_defaulted_train_balanced=df_fdic_small.loc[non_defaulted_train_balanced_ids]\n",
    "\n",
    "non_defaulted_test_balanced=df_fdic_small.loc[non_defaulted_test_balanced_ids]\n",
    "\n",
    "df_train_balanced_X=defaulted_train[main_company_columns+main_market_columns].\\\n",
    "append(non_defaulted_train_balanced[main_company_columns+main_market_columns])\n",
    "\n",
    "df_test_balanced_X=defaulted_test[main_company_columns+main_market_columns].\\\n",
    "append(non_defaulted_test_balanced[main_company_columns+main_market_columns])\n",
    "\n",
    "df_train_balanced_Y=defaulted_train.defaulter.\\\n",
    "    append(non_defaulted_train_balanced.defaulter)\n",
    "\n",
    "df_test_balanced_Y=defaulted_test.defaulter.\\\n",
    "    append(non_defaulted_test_balanced.defaulter)"
   ]
  },
  {
   "cell_type": "markdown",
   "metadata": {},
   "source": [
    "<span style=\"color:red\">  \n",
    "Task 6:  \n",
    "without tuning hyperparameters, let's use \"show_performance\" function we defined above, to choose the best model you like. (you need to evaluate the model performance)\n",
    "</span>"
   ]
  },
  {
   "cell_type": "code",
   "execution_count": 14,
   "metadata": {},
   "outputs": [
    {
     "data": {
      "image/png": "[encoded data removed]",
      "text/plain": [
       "<Figure size 432x288 with 1 Axes>"
      ]
     },
     "metadata": {},
     "output_type": "display_data"
    },
    {
     "name": "stdout",
     "output_type": "stream",
     "text": [
      "confusion mastrix:\n",
      "[[4886 1413]\n",
      " [1276 3549]]\n",
      "classification report:\n",
      "             precision    recall  f1-score   support\n",
      "\n",
      "          0       0.79      0.78      0.78      6299\n",
      "          1       0.72      0.74      0.73      4825\n",
      "\n",
      "avg / total       0.76      0.76      0.76     11124\n",
      "\n",
      "accuracy score:\n",
      "0.7582704063286587\n"
     ]
    }
   ],
   "source": []
  },
  {
   "cell_type": "markdown",
   "metadata": {},
   "source": [
    "# Let's look at gridsearch for hyper parameters tuning only for gradient boosting"
   ]
  },
  {
   "cell_type": "markdown",
   "metadata": {},
   "source": [
    "<span style=\"color:red\">  \n",
    "Task 7:  \n",
    "if we use gradient boosting classifier on balanced data, please try gridsearch to optimize the hyperparameters.  \n",
    "Use \"show_performance\" function on this optimized classifier.   \n",
    "    Hint: DataCamp notes Chapter 5, page 10   \n",
    "(given that grid search is computing expensive, we don't expect to improve much on your local laptop. and no need to match the output below.) \n",
    "</span>   \n",
    "<span style=\"color:blue\"> what scoring metric you use for searching? </span>"
   ]
  },
  {
   "cell_type": "code",
   "execution_count": 15,
   "metadata": {},
   "outputs": [],
   "source": []
  },
  {
   "cell_type": "code",
   "execution_count": 16,
   "metadata": {},
   "outputs": [],
   "source": []
  },
  {
   "cell_type": "code",
   "execution_count": 17,
   "metadata": {},
   "outputs": [
    {
     "data": {
      "text/plain": [
       "GridSearchCV(cv=10, error_score='raise',\n",
       "       estimator=GradientBoostingClassifier(criterion='friedman_mse', init=None,\n",
       "              learning_rate=0.1, loss='deviance', max_depth=3,\n",
       "              max_features=None, max_leaf_nodes=None,\n",
       "              min_impurity_decrease=0.0, min_impurity_split=None,\n",
       "              min_samples_leaf=1, min_samples_split=2,\n",
       "              min_weight_fraction_leaf=0.0, n_estimators=100,\n",
       "              presort='auto', random_state=123, subsample=1.0, verbose=0,\n",
       "              warm_start=False),\n",
       "       fit_params=None, iid=True, n_jobs=-1,\n",
       "       param_grid={'learning_rate': [0.1, 0.2], 'n_estimators': [50, 100, 150], 'max_depth': [3, 4, 5], 'max_features': range(14, 19)},\n",
       "       pre_dispatch='2*n_jobs', refit=True, return_train_score='warn',\n",
       "       scoring='accuracy', verbose=0)"
      ]
     },
     "execution_count": 17,
     "metadata": {},
     "output_type": "execute_result"
    }
   ],
   "source": []
  },
  {
   "cell_type": "code",
   "execution_count": 29,
   "metadata": {},
   "outputs": [
    {
     "name": "stdout",
     "output_type": "stream",
     "text": [
      "{'learning_rate': 0.2, 'max_depth': 3, 'max_features': 18, 'n_estimators': 150}\n"
     ]
    }
   ],
   "source": []
  },
  {
   "cell_type": "code",
   "execution_count": 30,
   "metadata": {},
   "outputs": [
    {
     "name": "stdout",
     "output_type": "stream",
     "text": [
      "GradientBoostingClassifier(criterion='friedman_mse', init=None,\n",
      "              learning_rate=0.2, loss='deviance', max_depth=3,\n",
      "              max_features=18, max_leaf_nodes=None,\n",
      "              min_impurity_decrease=0.0, min_impurity_split=None,\n",
      "              min_samples_leaf=1, min_samples_split=2,\n",
      "              min_weight_fraction_leaf=0.0, n_estimators=150,\n",
      "              presort='auto', random_state=123, subsample=1.0, verbose=0,\n",
      "              warm_start=False)\n"
     ]
    }
   ],
   "source": []
  },
  {
   "cell_type": "code",
   "execution_count": 19,
   "metadata": {},
   "outputs": [
    {
     "data": {
      "image/png": "[encoded data removed]",
      "text/plain": [
       "<Figure size 432x288 with 1 Axes>"
      ]
     },
     "metadata": {},
     "output_type": "display_data"
    },
    {
     "name": "stdout",
     "output_type": "stream",
     "text": [
      "confusion mastrix:\n",
      "[[4876 1423]\n",
      " [1274 3551]]\n",
      "classification report:\n",
      "             precision    recall  f1-score   support\n",
      "\n",
      "          0       0.79      0.77      0.78      6299\n",
      "          1       0.71      0.74      0.72      4825\n",
      "\n",
      "avg / total       0.76      0.76      0.76     11124\n",
      "\n",
      "accuracy score:\n",
      "0.7575512405609492\n"
     ]
    }
   ],
   "source": []
  },
  {
   "cell_type": "markdown",
   "metadata": {},
   "source": [
    "# try to extract more features"
   ]
  },
  {
   "cell_type": "markdown",
   "metadata": {},
   "source": [
    "<span style=\"color:green\">  \n",
    "Task 8:  \n",
    "we only use some of the features in our predictive models, as in variables \"main_company_columns\" & \"main_market_columns\".  \n",
    "we could try to extract more features from other columns, (perhaps there is some seasonality pattern of \"defaulter\"?).  \n",
    "feature enginnering will require lots of efforts, and may never be perfect,  please feel free to extract more features if you have time..\n",
    "</span>"
   ]
  },
  {
   "cell_type": "code",
   "execution_count": null,
   "metadata": {},
   "outputs": [],
   "source": []
  }
 ],
 "metadata": {
  "kernelspec": {
   "display_name": "Python 3",
   "language": "python",
   "name": "python3"
  },
  "language_info": {
   "codemirror_mode": {
    "name": "ipython",
    "version": 3
   },
   "file_extension": ".py",
   "mimetype": "text/x-python",
   "name": "python",
   "nbconvert_exporter": "python",
   "pygments_lexer": "ipython3",
   "version": "3.6.5"
  }
 },
 "nbformat": 4,
 "nbformat_minor": 2
}
