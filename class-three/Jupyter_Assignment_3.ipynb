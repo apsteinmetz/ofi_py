{
 "cells": [
  {
   "cell_type": "code",
   "execution_count": 1,
   "metadata": {},
   "outputs": [],
   "source": [
    "#! conda install pytables"
   ]
  },
  {
   "cell_type": "markdown",
   "metadata": {},
   "source": [
    "# Libraries and Versions\n",
    "Like always we will import some of the libraries and verify their version"
   ]
  },
  {
   "cell_type": "code",
   "execution_count": 2,
   "metadata": {},
   "outputs": [],
   "source": [
    "import pandas as pd\n",
    "import numpy as np\n",
    "\n",
    "import matplotlib.pyplot as plt\n",
    "import seaborn as sns\n",
    "%matplotlib inline\n",
    "\n",
    "\n",
    "from sklearn.model_selection import train_test_split\n",
    "from sklearn.linear_model import LogisticRegression\n",
    "from sklearn.metrics import (confusion_matrix,classification_report, accuracy_score,\n",
    "                             precision_score,recall_score,f1_score, roc_curve)\n",
    "\n",
    "import platform\n",
    "\n",
    "import random"
   ]
  },
  {
   "cell_type": "code",
   "execution_count": 3,
   "metadata": {},
   "outputs": [
    {
     "name": "stdout",
     "output_type": "stream",
     "text": [
      "python |pandas |numpy |seaborn|\n",
      "-------|-------|------|-------|\n",
      "3.7.2  |0.24.2 |1.16.2|0.9.0  |\n"
     ]
    }
   ],
   "source": [
    "#check versions of libraries and system\n",
    "print(\"python |pandas |numpy |seaborn|\")\n",
    "print(\"-------|-------|------|-------|\")\n",
    "print(f\"{platform.python_version()}  |{pd.__version__} |{np.__version__}|{sns.__version__}  |\")\n",
    "\n",
    "\n"
   ]
  },
  {
   "cell_type": "markdown",
   "metadata": {},
   "source": [
    "# Third Assignment - Introduction"
   ]
  },
  {
   "cell_type": "markdown",
   "metadata": {},
   "source": [
    "* In this assignment you will become familiar with scikit-learn, which is one of the most widely used analysis modeling python libraries. \n",
    "* At the same time I will provide a description of the data that we have been looking at.\n",
    "* The goal of this assignment is to apply logistic regression on our data to see if we can predict default based on the data we have. \n",
    "* For a summary of scikit-learn, read the section titled **scikit-learn Overview**\n",
    "* For a summary of the data, read the section title **Data and Default Modeling**\n",
    "* To move on to the exercise portion, go to the section three **Implementation** and follow the instructions. "
   ]
  },
  {
   "cell_type": "markdown",
   "metadata": {},
   "source": [
    "# Section One: scikit-learn Overview"
   ]
  },
  {
   "cell_type": "markdown",
   "metadata": {},
   "source": [
    "* Over the last two classes we focused on data ingestion, data representation, visualization and touched on package management\n",
    "* We will now focus on analysis and modeling"
   ]
  },
  {
   "attachments": {
    "Libraries_Landscape.png": {
     "image/png": "[encoded data removed]"
    }
   },
   "cell_type": "markdown",
   "metadata": {},
   "source": [
    "![Libraries_Landscape.png](attachment:Libraries_Landscape.png)"
   ]
  },
  {
   "cell_type": "markdown",
   "metadata": {},
   "source": [
    "* All scikit-learn estimators are based on the **sklearn.base.BaseEstimator** and have the following properties: \n",
    "    * At *initialization* the model receives all the *hyperparameters* for the model. Hyperparameters are parameters that **don't depend on the data**\n",
    "    * The *fit()* method constructs the model.\n",
    "* Classification and regression models require a *predict()* method\n",
    "    * *Modelparameter*, which are **data dependent** are determined during the *fit()* procedure\n",
    "    * Calling *predict()* executes the methods and determines the \"best\" labels\n",
    "    * Below is an overview of hyperparameter and model parameters for some of the estimators"
   ]
  },
  {
   "cell_type": "code",
   "execution_count": 4,
   "metadata": {},
   "outputs": [
    {
     "data": {
      "text/html": [
       "<div>\n",
       "<style scoped>\n",
       "    .dataframe tbody tr th:only-of-type {\n",
       "        vertical-align: middle;\n",
       "    }\n",
       "\n",
       "    .dataframe tbody tr th {\n",
       "        vertical-align: top;\n",
       "    }\n",
       "\n",
       "    .dataframe thead th {\n",
       "        text-align: right;\n",
       "    }\n",
       "</style>\n",
       "<table border=\"1\" class=\"dataframe\">\n",
       "  <thead>\n",
       "    <tr style=\"text-align: right;\">\n",
       "      <th></th>\n",
       "      <th>Hyperparameters</th>\n",
       "      <th>Model Parameters</th>\n",
       "    </tr>\n",
       "    <tr>\n",
       "      <th>Type</th>\n",
       "      <th></th>\n",
       "      <th></th>\n",
       "    </tr>\n",
       "  </thead>\n",
       "  <tbody>\n",
       "    <tr>\n",
       "      <th>Data dependence</th>\n",
       "      <td>No</td>\n",
       "      <td>Yes</td>\n",
       "    </tr>\n",
       "    <tr>\n",
       "      <th>Initialization location</th>\n",
       "      <td>__init__()</td>\n",
       "      <td>fit()</td>\n",
       "    </tr>\n",
       "    <tr>\n",
       "      <th>Naming convention</th>\n",
       "      <td>same as argument name</td>\n",
       "      <td>ends with an underscore</td>\n",
       "    </tr>\n",
       "    <tr>\n",
       "      <th>Examples</th>\n",
       "      <td>n_neighbors, algorithm, n_jobs</td>\n",
       "      <td>classes_,theta_,sigma_</td>\n",
       "    </tr>\n",
       "  </tbody>\n",
       "</table>\n",
       "</div>"
      ],
      "text/plain": [
       "                                        Hyperparameters  \\\n",
       "Type                                                      \n",
       "Data dependence                                      No   \n",
       "Initialization location                      __init__()   \n",
       "Naming convention                 same as argument name   \n",
       "Examples                 n_neighbors, algorithm, n_jobs   \n",
       "\n",
       "                                Model Parameters  \n",
       "Type                                              \n",
       "Data dependence                              Yes  \n",
       "Initialization location                    fit()  \n",
       "Naming convention        ends with an underscore  \n",
       "Examples                  classes_,theta_,sigma_  "
      ]
     },
     "execution_count": 4,
     "metadata": {},
     "output_type": "execute_result"
    }
   ],
   "source": [
    "key=[\"Type\", \"Hyperparameters\",\"Model Parameters\"]\n",
    "values=[[\"Data dependence\", \"Initialization location\",\"Naming convention\",\"Examples\"],\n",
    "        [\"No\", \"__init__()\",\"same as argument name\",\"n_neighbors, algorithm, n_jobs\"],\n",
    "       [\"Yes\",\"fit()\",\"ends with an underscore\",\"classes_,theta_,sigma_\"]]\n",
    "pd.DataFrame(dict(zip(key,values))).set_index(\"Type\")"
   ]
  },
  {
   "cell_type": "code",
   "execution_count": 5,
   "metadata": {},
   "outputs": [
    {
     "data": {
      "text/html": [
       "<div>\n",
       "<style scoped>\n",
       "    .dataframe tbody tr th:only-of-type {\n",
       "        vertical-align: middle;\n",
       "    }\n",
       "\n",
       "    .dataframe tbody tr th {\n",
       "        vertical-align: top;\n",
       "    }\n",
       "\n",
       "    .dataframe thead th {\n",
       "        text-align: right;\n",
       "    }\n",
       "</style>\n",
       "<table border=\"1\" class=\"dataframe\">\n",
       "  <thead>\n",
       "    <tr style=\"text-align: right;\">\n",
       "      <th></th>\n",
       "      <th>classifier name</th>\n",
       "      <th>main hyperparameters</th>\n",
       "    </tr>\n",
       "    <tr>\n",
       "      <th>scikit-learn module</th>\n",
       "      <th></th>\n",
       "      <th></th>\n",
       "    </tr>\n",
       "  </thead>\n",
       "  <tbody>\n",
       "    <tr>\n",
       "      <th>ensemble</th>\n",
       "      <td>RandomForestClassifier</td>\n",
       "      <td>n_estimators, max_depth</td>\n",
       "    </tr>\n",
       "    <tr>\n",
       "      <th>linear_model</th>\n",
       "      <td>LogisticRegression</td>\n",
       "      <td>penalty, C</td>\n",
       "    </tr>\n",
       "    <tr>\n",
       "      <th>neighbors</th>\n",
       "      <td>KNeighborsClassifier</td>\n",
       "      <td>n_neighbors, weights</td>\n",
       "    </tr>\n",
       "    <tr>\n",
       "      <th>tree</th>\n",
       "      <td>DecisionTreeClassifier</td>\n",
       "      <td>max_depth</td>\n",
       "    </tr>\n",
       "  </tbody>\n",
       "</table>\n",
       "</div>"
      ],
      "text/plain": [
       "                            classifier name     main hyperparameters\n",
       "scikit-learn module                                                 \n",
       "ensemble             RandomForestClassifier  n_estimators, max_depth\n",
       "linear_model             LogisticRegression               penalty, C\n",
       "neighbors              KNeighborsClassifier     n_neighbors, weights\n",
       "tree                 DecisionTreeClassifier                max_depth"
      ]
     },
     "execution_count": 5,
     "metadata": {},
     "output_type": "execute_result"
    }
   ],
   "source": [
    "key=[\"scikit-learn module\",\"classifier name\",\"main hyperparameters\"]\n",
    "values=[[\"ensemble\", \"linear_model\",\"neighbors\", \"tree\"],\n",
    "       [\"RandomForestClassifier\",\"LogisticRegression\",\"KNeighborsClassifier\", \"DecisionTreeClassifier\"],\n",
    "       [\"n_estimators, max_depth\",\"penalty, C\",\"n_neighbors, weights\",\"max_depth\"]]\n",
    "pd.DataFrame(dict(zip(key,values))).set_index(\"scikit-learn module\")"
   ]
  },
  {
   "cell_type": "code",
   "execution_count": 6,
   "metadata": {},
   "outputs": [
    {
     "data": {
      "text/html": [
       "<div>\n",
       "<style scoped>\n",
       "    .dataframe tbody tr th:only-of-type {\n",
       "        vertical-align: middle;\n",
       "    }\n",
       "\n",
       "    .dataframe tbody tr th {\n",
       "        vertical-align: top;\n",
       "    }\n",
       "\n",
       "    .dataframe thead th {\n",
       "        text-align: right;\n",
       "    }\n",
       "</style>\n",
       "<table border=\"1\" class=\"dataframe\">\n",
       "  <thead>\n",
       "    <tr style=\"text-align: right;\">\n",
       "      <th></th>\n",
       "      <th>regressor name</th>\n",
       "      <th>main hyperparameters</th>\n",
       "    </tr>\n",
       "    <tr>\n",
       "      <th>scikit-learn module</th>\n",
       "      <th></th>\n",
       "      <th></th>\n",
       "    </tr>\n",
       "  </thead>\n",
       "  <tbody>\n",
       "    <tr>\n",
       "      <th>ensemble</th>\n",
       "      <td>RandomForestRegressor</td>\n",
       "      <td>n_estimators, max_depth</td>\n",
       "    </tr>\n",
       "    <tr>\n",
       "      <th>linear_model</th>\n",
       "      <td>LinearRegression</td>\n",
       "      <td>fit_intercept</td>\n",
       "    </tr>\n",
       "  </tbody>\n",
       "</table>\n",
       "</div>"
      ],
      "text/plain": [
       "                            regressor name     main hyperparameters\n",
       "scikit-learn module                                                \n",
       "ensemble             RandomForestRegressor  n_estimators, max_depth\n",
       "linear_model              LinearRegression            fit_intercept"
      ]
     },
     "execution_count": 6,
     "metadata": {},
     "output_type": "execute_result"
    }
   ],
   "source": [
    "key=[\"scikit-learn module\",\"regressor name\",\"main hyperparameters\"]\n",
    "values=[[\"ensemble\", \"linear_model\"],\n",
    "       [\"RandomForestRegressor\",\"LinearRegression\"],\n",
    "       [\"n_estimators, max_depth\",\"fit_intercept\"]]\n",
    "pd.DataFrame(dict(zip(key,values))).set_index(\"scikit-learn module\")"
   ]
  },
  {
   "cell_type": "code",
   "execution_count": 7,
   "metadata": {},
   "outputs": [
    {
     "data": {
      "text/html": [
       "<div>\n",
       "<style scoped>\n",
       "    .dataframe tbody tr th:only-of-type {\n",
       "        vertical-align: middle;\n",
       "    }\n",
       "\n",
       "    .dataframe tbody tr th {\n",
       "        vertical-align: top;\n",
       "    }\n",
       "\n",
       "    .dataframe thead th {\n",
       "        text-align: right;\n",
       "    }\n",
       "</style>\n",
       "<table border=\"1\" class=\"dataframe\">\n",
       "  <thead>\n",
       "    <tr style=\"text-align: right;\">\n",
       "      <th></th>\n",
       "      <th>transformer name</th>\n",
       "      <th>main hyperparameters</th>\n",
       "    </tr>\n",
       "    <tr>\n",
       "      <th>module</th>\n",
       "      <th></th>\n",
       "      <th></th>\n",
       "    </tr>\n",
       "  </thead>\n",
       "  <tbody>\n",
       "    <tr>\n",
       "      <th>decomposition</th>\n",
       "      <td>PCA</td>\n",
       "      <td>n_components</td>\n",
       "    </tr>\n",
       "    <tr>\n",
       "      <th>preprocessing</th>\n",
       "      <td>Imputer</td>\n",
       "      <td>missing_values, strategy</td>\n",
       "    </tr>\n",
       "    <tr>\n",
       "      <th>preprocessing</th>\n",
       "      <td>MinMaxScaler</td>\n",
       "      <td>feature_range</td>\n",
       "    </tr>\n",
       "    <tr>\n",
       "      <th>preprocessing</th>\n",
       "      <td>OneHotEncoder</td>\n",
       "      <td>categorical_features</td>\n",
       "    </tr>\n",
       "    <tr>\n",
       "      <th>preprocessing</th>\n",
       "      <td>QuantileTransformer</td>\n",
       "      <td>n_quantiles, output distribution</td>\n",
       "    </tr>\n",
       "    <tr>\n",
       "      <th>preprocessing</th>\n",
       "      <td>RobustScaler</td>\n",
       "      <td>with_centering, with_scaling</td>\n",
       "    </tr>\n",
       "    <tr>\n",
       "      <th>preprocessing</th>\n",
       "      <td>StandardScaler</td>\n",
       "      <td>with_mean, with_std</td>\n",
       "    </tr>\n",
       "  </tbody>\n",
       "</table>\n",
       "</div>"
      ],
      "text/plain": [
       "                  transformer name              main hyperparameters\n",
       "module                                                              \n",
       "decomposition                  PCA                      n_components\n",
       "preprocessing              Imputer          missing_values, strategy\n",
       "preprocessing         MinMaxScaler                     feature_range\n",
       "preprocessing        OneHotEncoder              categorical_features\n",
       "preprocessing  QuantileTransformer  n_quantiles, output distribution\n",
       "preprocessing         RobustScaler      with_centering, with_scaling\n",
       "preprocessing       StandardScaler               with_mean, with_std"
      ]
     },
     "execution_count": 7,
     "metadata": {},
     "output_type": "execute_result"
    }
   ],
   "source": [
    "key=[\"module\", \"transformer name\",\"main hyperparameters\"]\n",
    "values=[[\"decomposition\",\"preprocessing\",\"preprocessing\",\"preprocessing\",\"preprocessing\",\"preprocessing\",\"preprocessing\"],\n",
    "       [\"PCA\",\"Imputer\",\"MinMaxScaler\",\"OneHotEncoder\",\"QuantileTransformer\",\"RobustScaler\",\"StandardScaler\"],\n",
    "       [\"n_components\",\"missing_values, strategy\",\"feature_range\",\"categorical_features\",\"n_quantiles, output distribution\",\n",
    "       \"with_centering, with_scaling\",\"with_mean, with_std\"]]\n",
    "pd.DataFrame(dict(zip(key,values))).set_index(\"module\")"
   ]
  },
  {
   "cell_type": "markdown",
   "metadata": {},
   "source": [
    "*For a full documentation on the classes please see* [https://scikit-learn.org/stable/modules/generated/sklearn.base.BaseEstimator.html#]"
   ]
  },
  {
   "cell_type": "markdown",
   "metadata": {},
   "source": [
    "## Model Validation"
   ]
  },
  {
   "cell_type": "markdown",
   "metadata": {},
   "source": [
    "For model validation the following page provides a good overview: [https://scikit-learn.org/stable/modules/model_evaluation.html]"
   ]
  },
  {
   "cell_type": "markdown",
   "metadata": {},
   "source": [
    "If we focus on binary classification (e.g., default or non-default) we get the following table:"
   ]
  },
  {
   "cell_type": "code",
   "execution_count": 8,
   "metadata": {},
   "outputs": [
    {
     "data": {
      "text/html": [
       "<div>\n",
       "<style scoped>\n",
       "    .dataframe tbody tr th:only-of-type {\n",
       "        vertical-align: middle;\n",
       "    }\n",
       "\n",
       "    .dataframe tbody tr th {\n",
       "        vertical-align: top;\n",
       "    }\n",
       "\n",
       "    .dataframe thead th {\n",
       "        text-align: right;\n",
       "    }\n",
       "</style>\n",
       "<table border=\"1\" class=\"dataframe\">\n",
       "  <thead>\n",
       "    <tr style=\"text-align: right;\">\n",
       "      <th></th>\n",
       "      <th>Predicted Neg</th>\n",
       "      <th>Predicted Pos</th>\n",
       "    </tr>\n",
       "    <tr>\n",
       "      <th>Actual</th>\n",
       "      <th></th>\n",
       "      <th></th>\n",
       "    </tr>\n",
       "  </thead>\n",
       "  <tbody>\n",
       "    <tr>\n",
       "      <th>Actual: Neg</th>\n",
       "      <td>True Negatives (tn)</td>\n",
       "      <td>False Positives (fp)</td>\n",
       "    </tr>\n",
       "    <tr>\n",
       "      <th>Actual: Pos</th>\n",
       "      <td>False Negatives (fn)</td>\n",
       "      <td>True Positives (tp)</td>\n",
       "    </tr>\n",
       "  </tbody>\n",
       "</table>\n",
       "</div>"
      ],
      "text/plain": [
       "                    Predicted Neg         Predicted Pos\n",
       "Actual                                                 \n",
       "Actual: Neg   True Negatives (tn)  False Positives (fp)\n",
       "Actual: Pos  False Negatives (fn)   True Positives (tp)"
      ]
     },
     "execution_count": 8,
     "metadata": {},
     "output_type": "execute_result"
    }
   ],
   "source": [
    "key=[\"Actual\", \"Predicted Neg\", \"Predicted Pos\"]\n",
    "values=[[\"Actual: Neg\", \"Actual: Pos\"],\n",
    "       [\"True Negatives (tn)\",\"False Negatives (fn)\"],\n",
    "       [\"False Positives (fp)\",\"True Positives (tp)\"]]\n",
    "pd.DataFrame(dict(zip(key,values))).set_index(\"Actual\")"
   ]
  },
  {
   "cell_type": "markdown",
   "metadata": {},
   "source": [
    "Based on this we can define:\n",
    "$$\\text{Accuracy}:={{tn+tp}\\over{tn+fn+fp+tp}}\\text{: the percentage of labels predicted correctly} \\$$\n",
    "\n",
    "$$\\text{Precision}:={{tp}\\over{tp+fp}}\\text{: the percentage of predicted positives that are actually correct}\\$$\n",
    "\n",
    "$$\\text{Recall}:={{tp}\\over{tp+fn}}\\text{: the percentage of actual positives that are predicted correctly} \\$$\n",
    "\n",
    "$$F_\\beta \\text{ measure}:=(1+\\beta^2){{\\text{precision} \\times \\text{recall}} \\over {{\\beta^2\\text{precision}+\\text{recall}}}}={{(1+\\beta^2)tp} \\over {(1+\\beta^2)tp+fp+\\beta^2fn}}$$"
   ]
  },
  {
   "cell_type": "markdown",
   "metadata": {},
   "source": [
    "For $\\beta<1$ precision is weighted more than recall, for $\\beta>1$ recall has higher weight and for $\\beta=1$ is the $F_1$ score which weights recall and precision equally."
   ]
  },
  {
   "cell_type": "markdown",
   "metadata": {},
   "source": [
    "The metrics are implemented in **sklearn.metrics** [https://scikit-learn.org/stable/modules/classes.html#module-sklearn.metrics] and common metrics are \n",
    "* **sklearn.metrics.confusion_matrix** [https://scikit-learn.org/stable/modules/generated/sklearn.metrics.confusion_matrix.html]\n",
    "* **sklearn.metrics.classification_report** [https://scikit-learn.org/stable/modules/generated/sklearn.metrics.classification_report.html#sklearn.metrics.classification_report]\n",
    "* Some of the other metrics are \n",
    "    * sklearn.metrics.accuracy_score\n",
    "    * sklearn.metrics.auc\n",
    "    * sklearn.metrics.f1_score\n",
    "    * sklearn.metrics.fbeta_score\n",
    "    * sklearn.metrics.precision_score\n",
    "    * sklearn.metrics.recall_score"
   ]
  },
  {
   "cell_type": "markdown",
   "metadata": {},
   "source": [
    "# Section Two: Data and Default Modeling"
   ]
  },
  {
   "cell_type": "markdown",
   "metadata": {},
   "source": [
    "* The data we used in Assignment 1 and Assigment 2 covers quarterly call reports submitted to FDIC.\n",
    "* **What are call reports?**"
   ]
  },
  {
   "cell_type": "markdown",
   "metadata": {},
   "source": [
    "## Call Reports"
   ]
  },
  {
   "cell_type": "markdown",
   "metadata": {},
   "source": [
    "* **Call reports**(Consolidated Report of Condition and Income) are filed **quarterly** by all commercial banks in the US and are made **publicly available**\n",
    "* In addition FDIC provides historical data for failed banks at [https://www.fdic.gov/bank/individual/failed]"
   ]
  },
  {
   "cell_type": "markdown",
   "metadata": {},
   "source": [
    "* The call reports consist of 29 schedules in total. \n",
    "* The data we are looking at is from the following schedules\n",
    "    * RI - Income statement\n",
    "    * RI-A - Changes in bank equity capital\n",
    "    * RC - Balance sheet\n",
    "    * RC-C, Part I - Loans and leases\n",
    "    * RC-C, Part II - Loans to small businesses and small farms\n",
    "    * RC-I - Assets and liabilities of IBFs (FFIEC 031 only)\n",
    "    * RC-K - Quarterly averages\n",
    "    * RC-N - Past due and non-accrual loans, leases and other assets"
   ]
  },
  {
   "cell_type": "markdown",
   "metadata": {},
   "source": [
    "* **Why is it interesting  to look at FDIC Call Reports**\n",
    "    * FDIC uses an internal (non-public) rating system to charge premium for providing deposit insurance to banks. \n",
    "    * To learn more about the risk based assessment of institutions please see [https://www.fdic.gov/deposit/insurance/assessments/risk.html]"
   ]
  },
  {
   "cell_type": "markdown",
   "metadata": {},
   "source": [
    "## Corporate Defaults vs Bank Failures"
   ]
  },
  {
   "cell_type": "markdown",
   "metadata": {},
   "source": [
    "* Most of you might be familiar with corporate defaults using structural models (Merton Model). Below is a comparison between corporate defaults and bank failures"
   ]
  },
  {
   "cell_type": "markdown",
   "metadata": {},
   "source": [
    "* **Similarities**:\n",
    "    * Both are about predictions of rare **binary events**\n",
    "    * Both use similar predictors (asset/debt and other financial ratios)\n",
    "    * Both involve analyzing high-dimensional sequences\n",
    "    * Both can rely on either purely statistical approaches, or on analysis of decision-making processes\n",
    "* **Differences**:\n",
    "    * Corporations deal with production of goods (COGS etc not used for banks)\n",
    "    * Banks have a much richer debt structure and more specialized financial assets\n",
    "    * Corporations file for bankruptcy while banks are taken over by the FDIC"
   ]
  },
  {
   "cell_type": "markdown",
   "metadata": {},
   "source": [
    "## Commonly used Financial Variables"
   ]
  },
  {
   "cell_type": "markdown",
   "metadata": {},
   "source": [
    "* Commonly used financial variables used to predict default include:\n",
    "    * Liquidity ratio\n",
    "    * Debt ratio\n",
    "    * Profitability ratio\n",
    "    * Value ratio\n",
    "    * Efficiency ratio\n",
    "* There are many more..."
   ]
  },
  {
   "cell_type": "markdown",
   "metadata": {},
   "source": [
    "* The most common cause of a bank closure is capital inadequacy. \n",
    "* However, the FDIC may decide to close a bank due to other reasons."
   ]
  },
  {
   "cell_type": "markdown",
   "metadata": {},
   "source": [
    "## Data Set"
   ]
  },
  {
   "cell_type": "markdown",
   "metadata": {},
   "source": [
    "* The data for this analysis is limited to smaller entities and is scaled\n",
    "* For the logistic regression we will look only on specific columns. "
   ]
  },
  {
   "cell_type": "markdown",
   "metadata": {},
   "source": [
    "* Data: ailed/assisted banks with at least 2Y of history for FDIC call reports, plus non-failed banks\n",
    "* Entity Features: \n",
    "    * **Log_TA**: logarithm of total asset for a bank\n",
    "    * **NI_to_TA** : net income to total assets\n",
    "    * **Equity_to_TA**: equity to total assets\n",
    "    * **NPL_to_TL**: non performing loans to total loans\n",
    "    * **REO_to_TA** : return on equity to totat assets\n",
    "    * **ALLL_to_TL** : allowance for loans and lease losses to total loans\n",
    "    * **core_deposits_to_TA**: core deposits to total assets\n",
    "    * **brokered_deposits_to_TA**: brokered deposits to total assets\n",
    "    * **loss_provision_to_TL**: loss provision (represents management's estimate of potential lost revenue from bad loans) to total loans\n",
    "    * **NIM** : net interest margin (net interest income / earnings assets)\n",
    "    * **assets_growth** : growth in assets\n",
    "* Market Economic Environment Features:\n",
    "    * **term_spread**\n",
    "    * **stock_mkt_growth**\n",
    "    * **real_gdp_growth**\n",
    "    * **unemployment_rate_change**\n",
    "    * **treasury_yield_3m**\n",
    "    * **bbb_spread**\n",
    "    * **bbb_spread_change**"
   ]
  },
  {
   "cell_type": "markdown",
   "metadata": {},
   "source": [
    "# Section Three: Implementation"
   ]
  },
  {
   "cell_type": "markdown",
   "metadata": {},
   "source": [
    "## General Guidelines"
   ]
  },
  {
   "cell_type": "markdown",
   "metadata": {},
   "source": [
    "* You have to provide your code in the cell below the command <font color='red'>**#ADD Your Code Here**</font>\n",
    "* Provide your analysis below the command <font color='red'>**#ADD Your Commentary Here**</font>\n",
    "* Before we do that, let's explore the data set that we will be using for our exercise."
   ]
  },
  {
   "cell_type": "markdown",
   "metadata": {},
   "source": [
    "## Import Data"
   ]
  },
  {
   "cell_type": "markdown",
   "metadata": {},
   "source": [
    "* Read the file \"data_third_assignment.h5\" and set IDRSSD\n",
    "* assign the data to the dataframe *df_fdic_small*"
   ]
  },
  {
   "cell_type": "markdown",
   "metadata": {},
   "source": [
    "<font color='red'>#ADD Your Code Here (one-two lines)</font>\n"
   ]
  },
  {
   "cell_type": "code",
   "execution_count": null,
   "metadata": {},
   "outputs": [],
   "source": []
  },
  {
   "cell_type": "markdown",
   "metadata": {},
   "source": [
    "* We wrote a helper function in the last assignment to normalize columns headers\n",
    "* We will now import this function and apply it to the dataframe\n",
    "* Apply the function **normalize_df_columns** to the dataframe **df_fdic_small** and assign the values to **df_fdic_small.columns**"
   ]
  },
  {
   "cell_type": "code",
   "execution_count": 10,
   "metadata": {},
   "outputs": [],
   "source": [
    "from helper_functions import normalize_df_columns"
   ]
  },
  {
   "cell_type": "markdown",
   "metadata": {},
   "source": [
    "<font color='red'>#ADD Your Code Here (one line)</font>"
   ]
  },
  {
   "cell_type": "code",
   "execution_count": null,
   "metadata": {},
   "outputs": [],
   "source": []
  },
  {
   "cell_type": "markdown",
   "metadata": {},
   "source": [
    "Show the first five rows of the dataframe"
   ]
  },
  {
   "cell_type": "markdown",
   "metadata": {},
   "source": [
    "<font color='red'>#ADD Your Code Here (one line)</font>"
   ]
  },
  {
   "cell_type": "code",
   "execution_count": null,
   "metadata": {},
   "outputs": [],
   "source": []
  },
  {
   "cell_type": "markdown",
   "metadata": {},
   "source": [
    "We will use the below columns for our analysis"
   ]
  },
  {
   "cell_type": "code",
   "execution_count": 11,
   "metadata": {},
   "outputs": [],
   "source": [
    "main_company_columns=['log_ta','ni_to_ta','equity_to_ta','npl_to_tl','reo_to_ta','alll_to_tl',\n",
    "                      'core_deposits_to_ta','brokered_deposits_to_ta','liquid_assets_to_ta',\n",
    "                      'loss_provision_to_tl','nim','assets_growth']\n",
    "main_market_columns=['term_spread','stock_mkt_growth','real_gdp_growth','unemployment_rate_change',\n",
    "                     'treasury_yield_3m','bbb_spread','bbb_spread_change']\n"
   ]
  },
  {
   "cell_type": "markdown",
   "metadata": {},
   "source": [
    "## Defaulted and Non-Defaulted IDs"
   ]
  },
  {
   "cell_type": "markdown",
   "metadata": {},
   "source": [
    "* As a first step we need to separate the data for entities that defaulted and entities that didn't default in our dataset"
   ]
  },
  {
   "cell_type": "markdown",
   "metadata": {},
   "source": [
    "* Create a **list** of all entities that defaulted, i.e. **defaulter** is 1\n",
    "    * Save the list as **defaulted_ids**\n",
    "* Create a **list** of all entities that didn't default, i.e. **defaulter** is 0\n",
    "    * Save the list as **non_defaulted_ids**\n",
    "* Next create two new dataframes one for defaulted and for non-defaulted"
   ]
  },
  {
   "cell_type": "markdown",
   "metadata": {},
   "source": [
    "<font color='red'>#ADD Your Code Here (four lines)</font>"
   ]
  },
  {
   "cell_type": "code",
   "execution_count": null,
   "metadata": {},
   "outputs": [],
   "source": []
  },
  {
   "cell_type": "markdown",
   "metadata": {},
   "source": [
    "## Assignment Modules"
   ]
  },
  {
   "cell_type": "markdown",
   "metadata": {},
   "source": [
    "The assignment consists of four parts\n",
    "* **Part I**: We will use all the available data to run the logistic regression\n",
    "* **Part II**: We will use a balanced version of the data to run logistic regression\n",
    "* **Part III**: We will use the balanced data from Part II. However, we will use a smaller number of columns to run the logistic regression\n",
    "* **Part IV**: Open-ended written response exercise related to the analysis"
   ]
  },
  {
   "cell_type": "markdown",
   "metadata": {},
   "source": [
    "### Part 1 - Use all Data "
   ]
  },
  {
   "cell_type": "markdown",
   "metadata": {},
   "source": [
    "* We will first use all the available data to run the logistic regression."
   ]
  },
  {
   "cell_type": "markdown",
   "metadata": {},
   "source": [
    "* Split the defaulted and non-defaulted data separately into a training and test set\n",
    "    * Randomly select 70% of the ids into training set and the non-selected ids into test set\n",
    "    * To do the random sampling use the **sample** method from **random**\n",
    "        * To determine the exact number use the **int** part of the **len(list)*70%**\n",
    "    * Save the values into: **defaulted_train_ids, defaulted_test_ids, non_defaulted_train_ids, non_defaulted_test_ids**\n",
    "    * To determine the ids for the test set, determine the difference between the original and training list\n",
    "        * This can be done for example by converting the list first into a set or using list comprehension"
   ]
  },
  {
   "cell_type": "markdown",
   "metadata": {},
   "source": [
    "<font color='red'>#ADD Your Code Here (four lines)</font>"
   ]
  },
  {
   "cell_type": "code",
   "execution_count": null,
   "metadata": {},
   "outputs": [],
   "source": []
  },
  {
   "cell_type": "markdown",
   "metadata": {},
   "source": [
    "* Use the above lists to create the training and test dataframes\n",
    "* Combine the training and test dataframes using for example **append**\n",
    "* Save the values in **df_train_X, df_test_X, df_train_Y, df_test_Y**"
   ]
  },
  {
   "cell_type": "markdown",
   "metadata": {},
   "source": [
    "<font color='red'>#ADD Your Code Here (~8 lines)</font>"
   ]
  },
  {
   "cell_type": "code",
   "execution_count": null,
   "metadata": {},
   "outputs": [],
   "source": []
  },
  {
   "cell_type": "markdown",
   "metadata": {},
   "source": [
    "#### Build Model"
   ]
  },
  {
   "cell_type": "markdown",
   "metadata": {},
   "source": [
    "* Initialize a **logistic regression** (called **log_all**) with the following parameters\n",
    "    * penalty = 'l1'\n",
    "    * tol=1e-6\n",
    "    * C=1000.0\n",
    "    * Specify **solver** for the logistic regression to be **liblinear**\n",
    "* Fit the model to the training data and save it as **result_all**\n",
    "* Store the predictions in **predictions_all**"
   ]
  },
  {
   "cell_type": "markdown",
   "metadata": {},
   "source": [
    "<font color='red'>#ADD Your Code Here (3-5 lines)</font>"
   ]
  },
  {
   "cell_type": "code",
   "execution_count": null,
   "metadata": {},
   "outputs": [],
   "source": []
  },
  {
   "cell_type": "markdown",
   "metadata": {},
   "source": [
    "* Print the confusion matrix\n",
    "* Print the classification report"
   ]
  },
  {
   "cell_type": "markdown",
   "metadata": {},
   "source": [
    "<font color='red'>#ADD Your Code Here (2-3 lines)</font>"
   ]
  },
  {
   "cell_type": "code",
   "execution_count": null,
   "metadata": {},
   "outputs": [],
   "source": []
  },
  {
   "cell_type": "raw",
   "metadata": {},
   "source": [
    "[[5228 1463]\n",
    " [1445 3490]]\n",
    "\n",
    "\n",
    "              precision    recall  f1-score   support\n",
    "\n",
    "           0       0.78      0.78      0.78      6691\n",
    "           1       0.70      0.71      0.71      4935\n",
    "\n",
    "   micro avg       0.75      0.75      0.75     11626\n",
    "   macro avg       0.74      0.74      0.74     11626\n",
    "weighted avg       0.75      0.75      0.75     11626"
   ]
  },
  {
   "cell_type": "markdown",
   "metadata": {},
   "source": [
    "**Analyze the result and explain why we are not good at predicting defaulted entities?**"
   ]
  },
  {
   "cell_type": "markdown",
   "metadata": {},
   "source": [
    "<font color='red'>**#ADD Your Commentary Here**</font>"
   ]
  },
  {
   "cell_type": "code",
   "execution_count": null,
   "metadata": {},
   "outputs": [],
   "source": []
  },
  {
   "cell_type": "markdown",
   "metadata": {},
   "source": [
    "### Part II - Balanced Set of Data"
   ]
  },
  {
   "cell_type": "markdown",
   "metadata": {},
   "source": [
    "* We will again use **all the defaulted entities** for our model. \n",
    "* However, instead of using all the non-defaulted data for our model we will select a much smaller subset for our model\n",
    "    * Determine the number of non-defaulted entities and save it in **number_of_defaulted_entities**\n",
    "    * Select randomly the same number_of_defaulted_entities from the non-defaulted list; use again the **sample** method\n",
    "        * store the ids in **non_defaulted_balanced_ids** and **print the number of non-defaulted IDs**\n",
    "    * Create a new training and test data set with a 70/30 split like in **Part I** with **non_defaulted_balanced_ids** and the full set of defaulted entities\n",
    "    * Store the values in **non_defaulted_train_balanced_ids, non_defaulted_test_balanced_ids**\n",
    "    * Create new non-defaulted balanced training and test dataframes called: **non_defaulted_train_balanced and non_defaulted_test_balanced**\n",
    "    * Create new training and test sets based on the balanced data called: **df_train_balanced_X, df_test_balanced_X, df_train_balanced_Y, df_test_balanced_Y**"
   ]
  },
  {
   "cell_type": "markdown",
   "metadata": {},
   "source": [
    "<font color='red'>#ADD Your Code Here (2-3 lines)</font>"
   ]
  },
  {
   "cell_type": "code",
   "execution_count": 97,
   "metadata": {},
   "outputs": [],
   "source": [
    "#Determine the number of defaulted entities and print it\n"
   ]
  },
  {
   "cell_type": "code",
   "execution_count": null,
   "metadata": {},
   "outputs": [],
   "source": []
  },
  {
   "cell_type": "code",
   "execution_count": 52,
   "metadata": {},
   "outputs": [
    {
     "name": "stdout",
     "output_type": "stream",
     "text": [
      "The number of defaulted entities in the sample is 472\n"
     ]
    }
   ],
   "source": []
  },
  {
   "cell_type": "markdown",
   "metadata": {},
   "source": [
    "<font color='red'>#ADD Your Code Here (2-3 lines)</font>"
   ]
  },
  {
   "cell_type": "code",
   "execution_count": 99,
   "metadata": {},
   "outputs": [],
   "source": [
    "#Select randomly a sample of non defaulted entities with the same size as the defaulted entities\n",
    "#print the number of non defaulted entities\n"
   ]
  },
  {
   "cell_type": "code",
   "execution_count": 101,
   "metadata": {},
   "outputs": [
    {
     "name": "stdout",
     "output_type": "stream",
     "text": [
      "The number of non-defaulted entities in the balanced dataset is 472\n"
     ]
    }
   ],
   "source": []
  },
  {
   "cell_type": "markdown",
   "metadata": {},
   "source": [
    "<font color='red'>#ADD Your Code Here (~8 lines)</font>"
   ]
  },
  {
   "cell_type": "code",
   "execution_count": 102,
   "metadata": {},
   "outputs": [],
   "source": [
    "#Create the training and test data sets like in Part I but using the limited non-defaulted IDs\n"
   ]
  },
  {
   "cell_type": "markdown",
   "metadata": {},
   "source": [
    "#### Build Model"
   ]
  },
  {
   "cell_type": "markdown",
   "metadata": {},
   "source": [
    "* Initialize a logisitic regression -- **log_balanced** same parameters as in **Part I**\n",
    "* Fit the logistic regression to the new training data and assign it to **results_balanced**\n",
    "* Save the predictions in **predictions_balanced**"
   ]
  },
  {
   "cell_type": "markdown",
   "metadata": {},
   "source": [
    "<font color='red'>#ADD Your Code Here (3-5 lines)</font>"
   ]
  },
  {
   "cell_type": "code",
   "execution_count": null,
   "metadata": {},
   "outputs": [],
   "source": []
  },
  {
   "cell_type": "markdown",
   "metadata": {},
   "source": [
    "* Print the confusion matrix\n",
    "* Print the classification report"
   ]
  },
  {
   "cell_type": "markdown",
   "metadata": {},
   "source": [
    "<font color='red'>#ADD Your Code Here (2-3 lines)</font>"
   ]
  },
  {
   "cell_type": "code",
   "execution_count": null,
   "metadata": {},
   "outputs": [],
   "source": []
  },
  {
   "cell_type": "code",
   "execution_count": 112,
   "metadata": {},
   "outputs": [
    {
     "name": "stdout",
     "output_type": "stream",
     "text": [
      "[[5456 1255]\n",
      " [1362 3484]]\n",
      "\n",
      "\n",
      "              precision    recall  f1-score   support\n",
      "\n",
      "           0       0.80      0.81      0.81      6711\n",
      "           1       0.74      0.72      0.73      4846\n",
      "\n",
      "   micro avg       0.77      0.77      0.77     11557\n",
      "   macro avg       0.77      0.77      0.77     11557\n",
      "weighted avg       0.77      0.77      0.77     11557\n",
      "\n"
     ]
    }
   ],
   "source": []
  },
  {
   "cell_type": "markdown",
   "metadata": {},
   "source": [
    "**Compare the results of the balanced model vs. the non-balanced model we created in Part I. Identify at least two changes/differences.**"
   ]
  },
  {
   "cell_type": "markdown",
   "metadata": {},
   "source": [
    "<font color='red'>**#ADD Your Commentary Here**</font>"
   ]
  },
  {
   "cell_type": "code",
   "execution_count": null,
   "metadata": {},
   "outputs": [],
   "source": []
  },
  {
   "cell_type": "markdown",
   "metadata": {},
   "source": [
    "### Part III - Use a Limited Number of Columns"
   ]
  },
  {
   "cell_type": "markdown",
   "metadata": {},
   "source": [
    "* Use the data set selected in Part II\n",
    "* However, select for the model a smaller subset of columns. \n",
    "* For the new model use only the following columns:"
   ]
  },
  {
   "cell_type": "code",
   "execution_count": 15,
   "metadata": {},
   "outputs": [],
   "source": [
    "limited_columns=['log_ta', 'ni_to_ta','equity_to_ta', 'npl_to_tl','core_deposits_to_ta', 'brokered_deposits_to_ta', \n",
    "                 'liquid_assets_to_ta']+ ['term_spread','stock_mkt_growth']"
   ]
  },
  {
   "cell_type": "markdown",
   "metadata": {},
   "source": [
    "* Create new training and test data based only on those columns\n",
    "* save the **X** values in **df_train_balanced_lim_X, df_test_balanced_lim_X**"
   ]
  },
  {
   "cell_type": "markdown",
   "metadata": {},
   "source": [
    "<font color='red'>#ADD Your Code Here (2 lines)</font>"
   ]
  },
  {
   "cell_type": "code",
   "execution_count": null,
   "metadata": {},
   "outputs": [],
   "source": []
  },
  {
   "cell_type": "markdown",
   "metadata": {},
   "source": [
    "* Similar to Part II initialize the model, fit model, predict the values\n",
    "* Store the items in **log_balanced_lim, result_balanced_lim, predictions_balanced_lim**"
   ]
  },
  {
   "cell_type": "markdown",
   "metadata": {},
   "source": [
    "<font color='red'>#ADD Your Code Here (3 lines)</font>"
   ]
  },
  {
   "cell_type": "code",
   "execution_count": null,
   "metadata": {},
   "outputs": [],
   "source": []
  },
  {
   "cell_type": "markdown",
   "metadata": {},
   "source": [
    "* Print the confusion matrix\n",
    "* Print the classification report"
   ]
  },
  {
   "cell_type": "markdown",
   "metadata": {},
   "source": [
    "<font color='red'>#ADD Your Code Here (2 lines)</font>"
   ]
  },
  {
   "cell_type": "code",
   "execution_count": null,
   "metadata": {},
   "outputs": [],
   "source": []
  },
  {
   "cell_type": "code",
   "execution_count": 118,
   "metadata": {},
   "outputs": [
    {
     "name": "stdout",
     "output_type": "stream",
     "text": [
      "[[5407 1304]\n",
      " [1810 3036]]\n",
      "\n",
      "\n",
      "              precision    recall  f1-score   support\n",
      "\n",
      "           0       0.75      0.81      0.78      6711\n",
      "           1       0.70      0.63      0.66      4846\n",
      "\n",
      "   micro avg       0.73      0.73      0.73     11557\n",
      "   macro avg       0.72      0.72      0.72     11557\n",
      "weighted avg       0.73      0.73      0.73     11557\n",
      "\n"
     ]
    }
   ],
   "source": []
  },
  {
   "cell_type": "markdown",
   "metadata": {},
   "source": [
    "**Compare the results to Part II?**"
   ]
  },
  {
   "cell_type": "markdown",
   "metadata": {},
   "source": [
    "<font color='red'>**#ADD Your Commentary Here**</font>"
   ]
  },
  {
   "cell_type": "code",
   "execution_count": null,
   "metadata": {},
   "outputs": [],
   "source": []
  },
  {
   "cell_type": "markdown",
   "metadata": {},
   "source": [
    "### Part IV"
   ]
  },
  {
   "cell_type": "markdown",
   "metadata": {},
   "source": [
    "* Could we use the standard train_test_split from sklearn.model_selection to achieve similar splits as manually done above? If so, how?"
   ]
  },
  {
   "cell_type": "code",
   "execution_count": null,
   "metadata": {},
   "outputs": [],
   "source": []
  },
  {
   "cell_type": "markdown",
   "metadata": {},
   "source": [
    "* In Assignment 1, we saw that the data contained duplicate columns. We labelled them \"company_ratio_2\" and \"company_ratio_3\". They are actually \"ni_to_ta\" and \"roa\". \n",
    "    * What would be the impact if we include both columns in our model?"
   ]
  },
  {
   "cell_type": "code",
   "execution_count": null,
   "metadata": {},
   "outputs": [],
   "source": []
  },
  {
   "cell_type": "markdown",
   "metadata": {},
   "source": [
    "* Why do we need to scale our data for the model?\n",
    "* Should we scale market environment variables and company variables separately or together? What is the impact of each?"
   ]
  },
  {
   "cell_type": "code",
   "execution_count": null,
   "metadata": {},
   "outputs": [],
   "source": []
  },
  {
   "cell_type": "markdown",
   "metadata": {},
   "source": [
    "# References"
   ]
  },
  {
   "cell_type": "markdown",
   "metadata": {},
   "source": [
    "1. Lars Buitinck, Gilles Louppe, Mathieu Blondel, Fabian Pedregosa, Andreas C. Muller, Olivier Grisel, Vlad Niculae, Peter Prettenhofer, Alexandre Gramfort, Jaques Grobler, Robert Layton, Jake Vanderplas,Arnaud Joly, Brian Holt, and Gael Varoquaux (2013): **API design for machine learning software: experiences from the scikit-learn project** [https://arxiv.org/pdf/1309.0238.pdf]\n",
    "2. Merton (1974): **On the Pricing of Corporate Debt: The Risk Structure of Interest Rates** (online available at JSTOR)\n",
    "3.  Paco Nathan (2019): **A landscape diagram for Python data**[https://community.ibm.com/community/user/datascience/blogs/paco-nathan/2019/03/12/a-landscape-diagram-for-python-data]"
   ]
  },
  {
   "cell_type": "code",
   "execution_count": null,
   "metadata": {},
   "outputs": [],
   "source": []
  }
 ],
 "metadata": {
  "kernelspec": {
   "display_name": "Python 3",
   "language": "python",
   "name": "python3"
  },
  "language_info": {
   "codemirror_mode": {
    "name": "ipython",
    "version": 3
   },
   "file_extension": ".py",
   "mimetype": "text/x-python",
   "name": "python",
   "nbconvert_exporter": "python",
   "pygments_lexer": "ipython3",
   "version": "3.6.4"
  }
 },
 "nbformat": 4,
 "nbformat_minor": 2
}
